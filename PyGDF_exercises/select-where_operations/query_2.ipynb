{
 "cells": [
  {
   "cell_type": "markdown",
   "metadata": {},
   "source": [
    "# Query 2\n",
    "\n",
    "In this exercise will be compare *query* function to do select-where like query over ratings there are, and compare time to process dataset between Pandas and PyGDF"
   ]
  },
  {
   "cell_type": "code",
   "execution_count": 1,
   "metadata": {
    "scrolled": false
   },
   "outputs": [
    {
     "name": "stdout",
     "output_type": "stream",
     "text": [
      "============\n",
      "loading data\n",
      "============\n",
      "============\n",
      "data lodaded\n",
      "============\n"
     ]
    }
   ],
   "source": [
    "from pygdf.dataframe import DataFrame\n",
    "import time\n",
    "import pandas as pd\n",
    "import logging\n",
    "from IPython import display\n",
    "\n",
    "RATINGS_1M = '/home/ubuntu/pygdf/input_files/ratings-1M.dat'\n",
    "RATINGS_10M = '/home/ubuntu/pygdf/input_files/ratings-10M.dat'\n",
    "RATINGS_20M = '/home/ubuntu/pygdf/input_files/ratings-20M.dat'\n",
    "\n",
    "# ===========\n",
    "# Load Files\n",
    "# ===========\n",
    "print('============')\n",
    "print('loading data')\n",
    "print('============')\n",
    "ratingHeader = ['user_id', 'movie_id', 'rating', 'timestamp']\n",
    "\n",
    "ratings_1m = pd.read_table(RATINGS_1M, engine='python', sep='::', header=None, names=ratingHeader)\n",
    "df_ratings_1m = DataFrame.from_pandas(ratings_1m)\n",
    "\n",
    "ratings_10m = pd.read_table(RATINGS_10M, engine='python', sep='::', header=None, names=ratingHeader)\n",
    "df_ratings_10m = DataFrame.from_pandas(ratings_10m)\n",
    "\n",
    "ratings_20m = pd.read_table(RATINGS_20M, engine='python', sep='::', header=None, names=ratingHeader)\n",
    "df_ratings_20m = DataFrame.from_pandas(ratings_20m)\n",
    "print('============')\n",
    "print('data lodaded')\n",
    "print('============')"
   ]
  },
  {
   "cell_type": "code",
   "execution_count": 5,
   "metadata": {
    "collapsed": true
   },
   "outputs": [],
   "source": [
    "def timing(f):\n",
    "    def wrap(*args):\n",
    "        time1 = time.time()\n",
    "        ret = f(*args)\n",
    "        time2 = time.time()\n",
    "        diff_time = (time2 - time1) * 1000.0\n",
    "        print('=======================================================')\n",
    "        print('{} tooks {:.2f} ms'.format(f.__name__, diff_time))\n",
    "        print('=======================================================')\n",
    "        return ret\n",
    "\n",
    "    return wrap"
   ]
  },
  {
   "cell_type": "code",
   "execution_count": 6,
   "metadata": {
    "scrolled": false
   },
   "outputs": [],
   "source": [
    "@timing\n",
    "def query_pandas_1m():\n",
    "    print('##########################')\n",
    "    print('query_pandas_1m')\n",
    "    result = ratings_1m.query('timestamp >= 788918400 or timestamp <= 852076799')\n",
    "    print('##########################')\n",
    "    "
   ]
  },
  {
   "cell_type": "code",
   "execution_count": 7,
   "metadata": {
    "collapsed": true
   },
   "outputs": [],
   "source": [
    "@timing\n",
    "def query_pandas_1m_b():\n",
    "    print('##########################')\n",
    "    print('query_pandas_1m_b')\n",
    "    result = ratings_1m.query('timestamp >= 820454400 or timestamp <= 852076799')\n",
    "    print('##########################')"
   ]
  },
  {
   "cell_type": "code",
   "execution_count": 8,
   "metadata": {
    "collapsed": true
   },
   "outputs": [],
   "source": [
    "@timing\n",
    "def query_pandas_10m():\n",
    "    print('##########################')\n",
    "    print('query_pandas_10m')\n",
    "    result = ratings_10m.query('timestamp >= 788918400 or timestamp <= 852076799')\n",
    "    print('##########################')\n",
    "    "
   ]
  },
  {
   "cell_type": "code",
   "execution_count": 9,
   "metadata": {
    "collapsed": true
   },
   "outputs": [],
   "source": [
    "@timing\n",
    "def query_pandas_10m_b():\n",
    "    print('##########################')\n",
    "    print('query_pandas_10m_b')\n",
    "    result = ratings_10m.query('timestamp >= 820454400 or timestamp <= 852076799')\n",
    "    print('##########################')"
   ]
  },
  {
   "cell_type": "code",
   "execution_count": 10,
   "metadata": {
    "collapsed": true
   },
   "outputs": [],
   "source": [
    "@timing\n",
    "def query_pandas_20m():\n",
    "    print('##########################')\n",
    "    print('query_pandas_20m')\n",
    "    result = ratings_20m.query('timestamp >= 788918400 or timestamp <= 852076799')\n",
    "    print('##########################')"
   ]
  },
  {
   "cell_type": "code",
   "execution_count": 11,
   "metadata": {
    "collapsed": true
   },
   "outputs": [],
   "source": [
    "@timing\n",
    "def query_pandas_20m_b():\n",
    "    print('##########################')\n",
    "    print('query_pandas_20m_b')\n",
    "    result = ratings_20m.query('timestamp >= 820454400 or timestamp <= 852076799')\n",
    "    print('##########################')"
   ]
  },
  {
   "cell_type": "code",
   "execution_count": 12,
   "metadata": {
    "collapsed": true,
    "scrolled": false
   },
   "outputs": [],
   "source": [
    "@timing\n",
    "def query_pygdf_1m():\n",
    "    print('##########################')\n",
    "    print('query_pygdf_1m')\n",
    "    result = df_ratings_1m.query('timestamp >= 788918400 or timestamp <= 852076799')\n",
    "    print('##########################')"
   ]
  },
  {
   "cell_type": "code",
   "execution_count": 13,
   "metadata": {
    "collapsed": true
   },
   "outputs": [],
   "source": [
    "@timing\n",
    "def query_pygdf_1m_b():\n",
    "    print('##########################')\n",
    "    print('query_pygdf_1m_b')\n",
    "    result = df_ratings_1m.query('timestamp >= 820454400 or timestamp <= 852076799')\n",
    "    print('##########################')"
   ]
  },
  {
   "cell_type": "code",
   "execution_count": 14,
   "metadata": {
    "collapsed": true
   },
   "outputs": [],
   "source": [
    "@timing\n",
    "def query_pygdf_10m():\n",
    "    print('##########################')\n",
    "    print('query_pygdf_10m')\n",
    "    result = df_ratings_10m.query('timestamp >= 788918400 or timestamp <= 852076799')\n",
    "    print('##########################')"
   ]
  },
  {
   "cell_type": "code",
   "execution_count": 15,
   "metadata": {
    "collapsed": true
   },
   "outputs": [],
   "source": [
    "@timing\n",
    "def query_pygdf_10m_b():\n",
    "    print('##########################')\n",
    "    print('query_pygdf_10m_b')\n",
    "    result = df_ratings_10m.query('timestamp >= 820454400 or timestamp <= 852076799')\n",
    "    print('##########################')"
   ]
  },
  {
   "cell_type": "code",
   "execution_count": 16,
   "metadata": {
    "collapsed": true
   },
   "outputs": [],
   "source": [
    "@timing\n",
    "def query_pygdf_20m():\n",
    "    print('##########################')\n",
    "    print('query_pygdf_20m')\n",
    "    result = df_ratings_20m.query('timestamp >= 788918400 or timestamp <= 852076799')\n",
    "    print('##########################')"
   ]
  },
  {
   "cell_type": "code",
   "execution_count": 17,
   "metadata": {
    "collapsed": true
   },
   "outputs": [],
   "source": [
    "@timing\n",
    "def query_pygdf_20m_b():\n",
    "    print('##########################')\n",
    "    print('query_pygdf_20m_b')\n",
    "    result = df_ratings_20m.query('timestamp >= 820454400 or timestamp <= 852076799')\n",
    "    print('##########################')"
   ]
  },
  {
   "cell_type": "code",
   "execution_count": 18,
   "metadata": {
    "collapsed": true
   },
   "outputs": [],
   "source": [
    "def iteration_1():\n",
    "    query_pandas_1m()\n",
    "    query_pandas_1m_b()\n",
    "    query_pandas_10m()\n",
    "    query_pandas_10m_b()\n",
    "    query_pandas_20m()\n",
    "    query_pandas_20m_b()\n",
    "    query_pygdf_1m()\n",
    "    query_pygdf_1m_b()\n",
    "    query_pygdf_10m()\n",
    "    query_pygdf_10m_b()\n",
    "    query_pygdf_20m()\n",
    "    query_pygdf_20m_b()"
   ]
  },
  {
   "cell_type": "code",
   "execution_count": 19,
   "metadata": {
    "collapsed": true
   },
   "outputs": [],
   "source": [
    "def iteration_2():\n",
    "    query_pandas_1m()\n",
    "    query_pandas_1m_b()\n",
    "    query_pandas_10m()\n",
    "    query_pandas_10m_b()\n",
    "    query_pandas_20m()\n",
    "    query_pandas_20m_b()\n",
    "    query_pygdf_1m()\n",
    "    query_pygdf_1m_b()\n",
    "    query_pygdf_10m()\n",
    "    query_pygdf_10m_b()\n",
    "    query_pygdf_20m()\n",
    "    query_pygdf_20m_b()"
   ]
  },
  {
   "cell_type": "code",
   "execution_count": 20,
   "metadata": {},
   "outputs": [
    {
     "name": "stdout",
     "output_type": "stream",
     "text": [
      "##########################\n",
      "query_pandas_1m\n",
      "##########################\n",
      "=======================================================\n",
      "query_pandas_1m tooks 33.78 ms\n",
      "=======================================================\n",
      "##########################\n",
      "query_pandas_1m_b\n",
      "##########################\n",
      "=======================================================\n",
      "query_pandas_1m_b tooks 29.56 ms\n",
      "=======================================================\n",
      "##########################\n",
      "query_pandas_10m\n",
      "##########################\n",
      "=======================================================\n",
      "query_pandas_10m tooks 362.65 ms\n",
      "=======================================================\n",
      "##########################\n",
      "query_pandas_10m_b\n",
      "##########################\n",
      "=======================================================\n",
      "query_pandas_10m_b tooks 345.93 ms\n",
      "=======================================================\n",
      "##########################\n",
      "query_pandas_20m\n",
      "##########################\n",
      "=======================================================\n",
      "query_pandas_20m tooks 886.58 ms\n",
      "=======================================================\n",
      "##########################\n",
      "query_pandas_20m_b\n",
      "##########################\n",
      "=======================================================\n",
      "query_pandas_20m_b tooks 858.13 ms\n",
      "=======================================================\n",
      "##########################\n",
      "query_pygdf_1m\n",
      "##########################\n",
      "=======================================================\n",
      "query_pygdf_1m tooks 791.30 ms\n",
      "=======================================================\n",
      "##########################\n",
      "query_pygdf_1m_b\n",
      "##########################\n",
      "=======================================================\n",
      "query_pygdf_1m_b tooks 146.85 ms\n",
      "=======================================================\n",
      "##########################\n",
      "query_pygdf_10m\n",
      "##########################\n",
      "=======================================================\n",
      "query_pygdf_10m tooks 153.48 ms\n",
      "=======================================================\n",
      "##########################\n",
      "query_pygdf_10m_b\n",
      "##########################\n",
      "=======================================================\n",
      "query_pygdf_10m_b tooks 66.58 ms\n",
      "=======================================================\n",
      "##########################\n",
      "query_pygdf_20m\n",
      "##########################\n",
      "=======================================================\n",
      "query_pygdf_20m tooks 103.07 ms\n",
      "=======================================================\n",
      "##########################\n",
      "query_pygdf_20m_b\n",
      "##########################\n",
      "=======================================================\n",
      "query_pygdf_20m_b tooks 99.74 ms\n",
      "=======================================================\n"
     ]
    }
   ],
   "source": [
    "iteration_1()"
   ]
  },
  {
   "cell_type": "code",
   "execution_count": 21,
   "metadata": {},
   "outputs": [
    {
     "name": "stdout",
     "output_type": "stream",
     "text": [
      "##########################\n",
      "query_pandas_1m\n",
      "##########################\n",
      "=======================================================\n",
      "query_pandas_1m tooks 28.89 ms\n",
      "=======================================================\n",
      "##########################\n",
      "query_pandas_1m_b\n",
      "##########################\n",
      "=======================================================\n",
      "query_pandas_1m_b tooks 26.02 ms\n",
      "=======================================================\n",
      "##########################\n",
      "query_pandas_10m\n",
      "##########################\n",
      "=======================================================\n",
      "query_pandas_10m tooks 350.55 ms\n",
      "=======================================================\n",
      "##########################\n",
      "query_pandas_10m_b\n",
      "##########################\n",
      "=======================================================\n",
      "query_pandas_10m_b tooks 350.11 ms\n",
      "=======================================================\n",
      "##########################\n",
      "query_pandas_20m\n",
      "##########################\n",
      "=======================================================\n",
      "query_pandas_20m tooks 836.62 ms\n",
      "=======================================================\n",
      "##########################\n",
      "query_pandas_20m_b\n",
      "##########################\n",
      "=======================================================\n",
      "query_pandas_20m_b tooks 845.24 ms\n",
      "=======================================================\n",
      "##########################\n",
      "query_pygdf_1m\n",
      "##########################\n",
      "=======================================================\n",
      "query_pygdf_1m tooks 47.64 ms\n",
      "=======================================================\n",
      "##########################\n",
      "query_pygdf_1m_b\n",
      "##########################\n",
      "=======================================================\n",
      "query_pygdf_1m_b tooks 47.74 ms\n",
      "=======================================================\n",
      "##########################\n",
      "query_pygdf_10m\n",
      "##########################\n",
      "=======================================================\n",
      "query_pygdf_10m tooks 63.24 ms\n",
      "=======================================================\n",
      "##########################\n",
      "query_pygdf_10m_b\n",
      "##########################\n",
      "=======================================================\n",
      "query_pygdf_10m_b tooks 64.75 ms\n",
      "=======================================================\n",
      "##########################\n",
      "query_pygdf_20m\n",
      "##########################\n",
      "=======================================================\n",
      "query_pygdf_20m tooks 107.90 ms\n",
      "=======================================================\n",
      "##########################\n",
      "query_pygdf_20m_b\n",
      "##########################\n",
      "=======================================================\n",
      "query_pygdf_20m_b tooks 97.02 ms\n",
      "=======================================================\n"
     ]
    }
   ],
   "source": [
    "iteration_2()"
   ]
  },
  {
   "cell_type": "code",
   "execution_count": null,
   "metadata": {
    "collapsed": true
   },
   "outputs": [],
   "source": []
  }
 ],
 "metadata": {
  "kernelspec": {
   "display_name": "Python 3 PyGDF",
   "language": "python",
   "name": "pygdf_dev"
  },
  "language_info": {
   "codemirror_mode": {
    "name": "ipython",
    "version": 3
   },
   "file_extension": ".py",
   "mimetype": "text/x-python",
   "name": "python",
   "nbconvert_exporter": "python",
   "pygments_lexer": "ipython3",
   "version": "3.5.3"
  }
 },
 "nbformat": 4,
 "nbformat_minor": 2
}
