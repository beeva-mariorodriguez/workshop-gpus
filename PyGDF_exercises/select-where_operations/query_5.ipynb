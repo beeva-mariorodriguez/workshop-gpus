{
 "cells": [
  {
   "cell_type": "markdown",
   "metadata": {},
   "source": [
    "# Query 5\n",
    "\n",
    "In this exercise will be compare *query* function to do select-where like query over ratings there are, and compare time to process dataset between Pandas and PyGDF"
   ]
  },
  {
   "cell_type": "code",
   "execution_count": null,
   "metadata": {
    "scrolled": false
   },
   "outputs": [],
   "source": [
    "from pygdf.dataframe import DataFrame\n",
    "import time\n",
    "import pandas as pd\n",
    "import logging\n",
    "from IPython import display\n",
    "\n",
    "RATINGS = '/home/ubuntu/pygdf/input_files/ratings-10M.dat'\n",
    "\n",
    "# ===========\n",
    "# Load Files\n",
    "# ===========\n",
    "print('============')\n",
    "print('loading data')\n",
    "print('============')\n",
    "ratingHeader = ['user_id', 'movie_id', 'rating', 'timestamp']\n",
    "ratings = pd.read_table(RATINGS, engine='python', sep='::', header=None, names=ratingHeader)\n",
    "df_ratings = DataFrame.from_pandas(ratings)\n",
    "print('============')\n",
    "print('data lodaded')\n",
    "print('============')"
   ]
  },
  {
   "cell_type": "code",
   "execution_count": null,
   "metadata": {
    "collapsed": true
   },
   "outputs": [],
   "source": [
    "def timing(f):\n",
    "    def wrap(*args):\n",
    "        time1 = time.time()\n",
    "        ret = f(*args)\n",
    "        time2 = time.time()\n",
    "        diff_time = (time2 - time1) * 1000.0\n",
    "        print('=======================================================')\n",
    "        print('{} tooks {:.2f} ms'.format(f.__name__, diff_time))\n",
    "        print('=======================================================')\n",
    "        return ret\n",
    "\n",
    "    return wrap"
   ]
  },
  {
   "cell_type": "code",
   "execution_count": null,
   "metadata": {
    "collapsed": true,
    "scrolled": false
   },
   "outputs": [],
   "source": [
    "@timing\n",
    "def query_5_pandas():\n",
    "    print('##########################')\n",
    "    print('query_5_pandas')\n",
    "    result = ratings.query('((timestamp >= 788918400 and timestamp <= 820454399) or  (timestamp >= 946684800 and timestamp <= 978307199) or (timestamp >= 1104537600 and timestamp <= 1136073599)) and (rating >=5)')\n",
    "    print('##########################')\n",
    "    "
   ]
  },
  {
   "cell_type": "code",
   "execution_count": null,
   "metadata": {
    "scrolled": false
   },
   "outputs": [],
   "source": [
    "query_5_pandas()"
   ]
  },
  {
   "cell_type": "code",
   "execution_count": null,
   "metadata": {
    "collapsed": true
   },
   "outputs": [],
   "source": [
    "@timing\n",
    "def query_5B_pandas():\n",
    "    print('##########################')\n",
    "    print('query_5B_pandas')\n",
    "    result = ratings.query('((timestamp >= 820454400 and timestamp <= 852076799) or  (timestamp >= 978307200 and timestamp <= 1009843199) or (timestamp >= 1136073600 and timestamp <= 1167609599)) and (rating >=1)')\n",
    "    print('##########################')\n",
    "    "
   ]
  },
  {
   "cell_type": "code",
   "execution_count": null,
   "metadata": {},
   "outputs": [],
   "source": [
    "query_5B_pandas()"
   ]
  },
  {
   "cell_type": "code",
   "execution_count": null,
   "metadata": {
    "collapsed": true,
    "scrolled": false
   },
   "outputs": [],
   "source": [
    "@timing\n",
    "def query_5_pygdf():\n",
    "    print('##########################')\n",
    "    print('query_5_pygdf')\n",
    "    result = df_ratings.query('((timestamp >= 788918400 and timestamp <= 820454399) or  (timestamp >= 946684800 and timestamp <= 978307199) or (timestamp >= 1104537600 and timestamp <= 1136073599)) and (rating >=5)')\n",
    "    print('##########################')"
   ]
  },
  {
   "cell_type": "code",
   "execution_count": null,
   "metadata": {},
   "outputs": [],
   "source": [
    "query_5_pygdf()"
   ]
  },
  {
   "cell_type": "code",
   "execution_count": null,
   "metadata": {
    "collapsed": true
   },
   "outputs": [],
   "source": [
    "@timing\n",
    "def query_5B_pygdf():\n",
    "    print('##########################')\n",
    "    print('query_5B_pygdf')\n",
    "    result = df_ratings.query('((timestamp >= 820454400 and timestamp <= 852076799) or  (timestamp >= 978307200 and timestamp <= 1009843199) or (timestamp >= 1136073600 and timestamp <= 1167609599)) and (rating >=1)')\n",
    "    print('##########################')"
   ]
  },
  {
   "cell_type": "code",
   "execution_count": null,
   "metadata": {},
   "outputs": [],
   "source": [
    "query_5B_pygdf()"
   ]
  },
  {
   "cell_type": "code",
   "execution_count": null,
   "metadata": {
    "collapsed": true
   },
   "outputs": [],
   "source": []
  }
 ],
 "metadata": {
  "kernelspec": {
   "display_name": "Python 3 PyGDF",
   "language": "python",
   "name": "pygdf_dev"
  },
  "language_info": {
   "codemirror_mode": {
    "name": "ipython",
    "version": 3
   },
   "file_extension": ".py",
   "mimetype": "text/x-python",
   "name": "python",
   "nbconvert_exporter": "python",
   "pygments_lexer": "ipython3",
   "version": "3.5.3"
  }
 },
 "nbformat": 4,
 "nbformat_minor": 2
}
