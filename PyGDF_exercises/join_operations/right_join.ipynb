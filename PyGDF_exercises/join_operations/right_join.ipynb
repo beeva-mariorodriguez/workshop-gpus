{
 "cells": [
  {
   "cell_type": "markdown",
   "metadata": {},
   "source": [
    "# Right Join\n",
    "\n",
    "In this exercise will be compare *join* function to do right join between ratings and users, and compare time to process dataset between Pandas and PyGDF"
   ]
  },
  {
   "cell_type": "code",
   "execution_count": 1,
   "metadata": {
    "scrolled": false
   },
   "outputs": [
    {
     "name": "stdout",
     "output_type": "stream",
     "text": [
      "============\n",
      "loading data\n",
      "============\n",
      "============\n",
      "data lodaded\n",
      "============\n"
     ]
    }
   ],
   "source": [
    "from pygdf.dataframe import DataFrame\n",
    "import time\n",
    "import pandas as pd\n",
    "import logging\n",
    "from IPython import display\n",
    "\n",
    "\n",
    "USERS = '/home/ubuntu/pygdf/input_files/users.dat'\n",
    "RATINGS_1M = '/home/ubuntu/pygdf/input_files/ratings-1M.dat'\n",
    "RATINGS_10M = '/home/ubuntu/pygdf/input_files/ratings-10M.dat'\n",
    "RATINGS_20M = '/home/ubuntu/pygdf/input_files/ratings-20M.dat'\n",
    "\n",
    "# ===========\n",
    "# Load Files\n",
    "# ===========\n",
    "print('============')\n",
    "print('loading data')\n",
    "print('============')\n",
    "ratingHeader = ['user_id', 'movie_id', 'rating', 'timestamp']\n",
    "\n",
    "ratings_1m = pd.read_table(RATINGS_1M, engine='python', sep='::', header=None, names=ratingHeader)\n",
    "df_ratings_1m = DataFrame.from_pandas(ratings_1m)\n",
    "\n",
    "ratings_10m = pd.read_table(RATINGS_10M, engine='python', sep='::', header=None, names=ratingHeader)\n",
    "df_ratings_10m = DataFrame.from_pandas(ratings_10m)\n",
    "\n",
    "ratings_20m = pd.read_table(RATINGS_20M, engine='python', sep='::', header=None, names=ratingHeader)\n",
    "df_ratings_20m = DataFrame.from_pandas(ratings_20m)\n",
    "\n",
    "userHeader = ['user_id', 'age', 'ocupation', 'zip']\n",
    "\n",
    "users = pd.read_table(USERS, engine='python', sep='::', header=None, names=userHeader)\n",
    "df_users = DataFrame.from_pandas(users)\n",
    "print('============')\n",
    "print('data lodaded')\n",
    "print('============')"
   ]
  },
  {
   "cell_type": "code",
   "execution_count": 2,
   "metadata": {
    "collapsed": true
   },
   "outputs": [],
   "source": [
    "def timing(f):\n",
    "    def wrap(*args):\n",
    "        time1 = time.time()\n",
    "        ret = f(*args)\n",
    "        time2 = time.time()\n",
    "        diff_time = (time2 - time1) * 1000.0\n",
    "        print('=======================================================')\n",
    "        print('{} tooks {:.2f} ms'.format(f.__name__, diff_time))\n",
    "        print('=======================================================')\n",
    "        return ret\n",
    "\n",
    "    return wrap"
   ]
  },
  {
   "cell_type": "code",
   "execution_count": 3,
   "metadata": {
    "collapsed": true,
    "scrolled": false
   },
   "outputs": [],
   "source": [
    "@timing\n",
    "def right_join_pandas_1m():\n",
    "    print('##########################')\n",
    "    print('right_join_pandas_1m')\n",
    "    joined = ratings_1m.join(users, how='right', lsuffix='_left', rsuffix='_right', sort=True)\n",
    "    print('##########################')\n",
    "    "
   ]
  },
  {
   "cell_type": "code",
   "execution_count": 4,
   "metadata": {
    "collapsed": true,
    "scrolled": false
   },
   "outputs": [],
   "source": [
    "@timing\n",
    "def right_join_pandas_10m():\n",
    "    print('##########################')\n",
    "    print('right_join_pandas_10m')\n",
    "    joined = ratings_10m.join(users, how='right', lsuffix='_left', rsuffix='_right', sort=True)\n",
    "    print('##########################')"
   ]
  },
  {
   "cell_type": "code",
   "execution_count": 5,
   "metadata": {
    "collapsed": true
   },
   "outputs": [],
   "source": [
    "@timing\n",
    "def right_join_pandas_20m():\n",
    "    print('##########################')\n",
    "    print('right_join_pandas_20m')\n",
    "    joined = ratings_20m.join(users, how='right', lsuffix='_left', rsuffix='_right', sort=True)\n",
    "    print('##########################')"
   ]
  },
  {
   "cell_type": "code",
   "execution_count": 6,
   "metadata": {
    "collapsed": true,
    "scrolled": false
   },
   "outputs": [],
   "source": [
    "@timing\n",
    "def right_join_pygdf_1m():\n",
    "    print('##########################')\n",
    "    print('right_join_pygdf_1m')\n",
    "    joined = df_ratings_1m.join(df_users, how='right', lsuffix='_left', rsuffix='_right', sort=True)\n",
    "    print('##########################')"
   ]
  },
  {
   "cell_type": "code",
   "execution_count": 7,
   "metadata": {
    "collapsed": true
   },
   "outputs": [],
   "source": [
    "@timing\n",
    "def right_join_pygdf_10m():\n",
    "    print('##########################')\n",
    "    print('right_join_pygdf_10m')\n",
    "    joined = df_ratings_10m.join(df_users, how='right', lsuffix='_left', rsuffix='_right', sort=True)\n",
    "    print('##########################')"
   ]
  },
  {
   "cell_type": "code",
   "execution_count": 8,
   "metadata": {
    "collapsed": true
   },
   "outputs": [],
   "source": [
    "@timing\n",
    "def right_join_pygdf_20m():\n",
    "    print('##########################')\n",
    "    print('right_join_pygdf_20m')\n",
    "    joined = df_ratings_20m.join(df_users, how='right', lsuffix='_left', rsuffix='_right', sort=True)\n",
    "    print('##########################')"
   ]
  },
  {
   "cell_type": "code",
   "execution_count": 9,
   "metadata": {
    "collapsed": true
   },
   "outputs": [],
   "source": [
    "def iteration_1():\n",
    "    right_join_pandas_1m()\n",
    "    right_join_pandas_10m()\n",
    "    right_join_pandas_20m()\n",
    "    right_join_pygdf_1m()\n",
    "    right_join_pygdf_10m()\n",
    "    right_join_pygdf_20m()"
   ]
  },
  {
   "cell_type": "code",
   "execution_count": 10,
   "metadata": {
    "collapsed": true
   },
   "outputs": [],
   "source": [
    "def iteration_2():\n",
    "    right_join_pandas_1m()\n",
    "    right_join_pandas_10m()\n",
    "    right_join_pandas_20m()\n",
    "    right_join_pygdf_1m()\n",
    "    right_join_pygdf_10m()\n",
    "    right_join_pygdf_20m()"
   ]
  },
  {
   "cell_type": "code",
   "execution_count": 11,
   "metadata": {},
   "outputs": [
    {
     "name": "stdout",
     "output_type": "stream",
     "text": [
      "##########################\n",
      "right_join_pandas_1m\n",
      "##########################\n",
      "=======================================================\n",
      "right_join_pandas_1m tooks 16.58 ms\n",
      "=======================================================\n",
      "##########################\n",
      "right_join_pandas_10m\n",
      "##########################\n",
      "=======================================================\n",
      "right_join_pandas_10m tooks 84.61 ms\n",
      "=======================================================\n",
      "##########################\n",
      "right_join_pandas_20m\n",
      "##########################\n",
      "=======================================================\n",
      "right_join_pandas_20m tooks 219.62 ms\n",
      "=======================================================\n",
      "##########################\n",
      "right_join_pygdf_1m\n",
      "##########################\n",
      "=======================================================\n",
      "right_join_pygdf_1m tooks 10112.24 ms\n",
      "=======================================================\n",
      "##########################\n",
      "right_join_pygdf_10m\n",
      "##########################\n",
      "=======================================================\n",
      "right_join_pygdf_10m tooks 350.51 ms\n",
      "=======================================================\n",
      "##########################\n",
      "right_join_pygdf_20m\n",
      "##########################\n",
      "=======================================================\n",
      "right_join_pygdf_20m tooks 260.33 ms\n",
      "=======================================================\n"
     ]
    }
   ],
   "source": [
    "iteration_1()"
   ]
  },
  {
   "cell_type": "code",
   "execution_count": 12,
   "metadata": {},
   "outputs": [
    {
     "name": "stdout",
     "output_type": "stream",
     "text": [
      "##########################\n",
      "right_join_pandas_1m\n",
      "##########################\n",
      "=======================================================\n",
      "right_join_pandas_1m tooks 2.20 ms\n",
      "=======================================================\n",
      "##########################\n",
      "right_join_pandas_10m\n",
      "##########################\n",
      "=======================================================\n",
      "right_join_pandas_10m tooks 57.50 ms\n",
      "=======================================================\n",
      "##########################\n",
      "right_join_pandas_20m\n",
      "##########################\n",
      "=======================================================\n",
      "right_join_pandas_20m tooks 163.88 ms\n",
      "=======================================================\n",
      "##########################\n",
      "right_join_pygdf_1m\n",
      "##########################\n",
      "=======================================================\n",
      "right_join_pygdf_1m tooks 118.99 ms\n",
      "=======================================================\n",
      "##########################\n",
      "right_join_pygdf_10m\n",
      "##########################\n",
      "=======================================================\n",
      "right_join_pygdf_10m tooks 178.25 ms\n",
      "=======================================================\n",
      "##########################\n",
      "right_join_pygdf_20m\n",
      "##########################\n",
      "=======================================================\n",
      "right_join_pygdf_20m tooks 265.75 ms\n",
      "=======================================================\n"
     ]
    }
   ],
   "source": [
    "iteration_2()"
   ]
  },
  {
   "cell_type": "code",
   "execution_count": null,
   "metadata": {
    "collapsed": true
   },
   "outputs": [],
   "source": []
  }
 ],
 "metadata": {
  "kernelspec": {
   "display_name": "Python 3 PyGDF",
   "language": "python",
   "name": "pygdf_dev"
  },
  "language_info": {
   "codemirror_mode": {
    "name": "ipython",
    "version": 3
   },
   "file_extension": ".py",
   "mimetype": "text/x-python",
   "name": "python",
   "nbconvert_exporter": "python",
   "pygments_lexer": "ipython3",
   "version": "3.5.3"
  }
 },
 "nbformat": 4,
 "nbformat_minor": 2
}
