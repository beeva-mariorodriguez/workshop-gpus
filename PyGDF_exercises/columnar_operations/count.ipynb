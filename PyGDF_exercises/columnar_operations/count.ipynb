{
 "cells": [
  {
   "cell_type": "markdown",
   "metadata": {},
   "source": [
    "# Count\n",
    "\n",
    "In this exercise will be compare *count* function to count number of ratings there are, and compare time to process dataset between Pandas and PyGDF"
   ]
  },
  {
   "cell_type": "code",
   "execution_count": null,
   "metadata": {
    "scrolled": false
   },
   "outputs": [],
   "source": [
    "from pygdf.dataframe import DataFrame\n",
    "import time\n",
    "import pandas as pd\n",
    "import logging\n",
    "from IPython import display\n",
    "\n",
    "RATINGS_1M = '/home/ubuntu/pygdf/input_files/ratings-1M.dat'\n",
    "RATINGS_10M = '/home/ubuntu/pygdf/input_files/ratings-10M.dat'\n",
    "RATINGS_20M = '/home/ubuntu/pygdf/input_files/ratings-20M.dat'\n",
    "\n",
    "# ===========\n",
    "# Load Files\n",
    "# ===========\n",
    "print('============')\n",
    "print('loading data')\n",
    "print('============')\n",
    "ratingHeader = ['user_id', 'movie_id', 'rating', 'timestamp']\n",
    "\n",
    "ratings_1m = pd.read_table(RATINGS_1M, engine='python', sep='::', header=None, names=ratingHeader)\n",
    "df_ratings_1m = DataFrame.from_pandas(ratings_1m)\n",
    "\n",
    "\n",
    "ratings_10m = pd.read_table(RATINGS_10M, engine='python', sep='::', header=None, names=ratingHeader)\n",
    "df_ratings_10m = DataFrame.from_pandas(ratings_10m)\n",
    "\n",
    "ratings_20m = pd.read_table(RATINGS_20M, engine='python', sep='::', header=None, names=ratingHeader)\n",
    "df_ratings_20m = DataFrame.from_pandas(ratings_20m)\n",
    "print('============')\n",
    "print('data lodaded')\n",
    "print('============')"
   ]
  },
  {
   "cell_type": "code",
   "execution_count": null,
   "metadata": {
    "collapsed": true
   },
   "outputs": [],
   "source": [
    "def timing(f):\n",
    "    def wrap(*args):\n",
    "        time1 = time.time()\n",
    "        ret = f(*args)\n",
    "        time2 = time.time()\n",
    "        diff_time = (time2 - time1) * 1000.0\n",
    "        print('=======================================================')\n",
    "        print('{} tooks {:.2f} ms'.format(f.__name__, diff_time))\n",
    "        print('=======================================================')\n",
    "        return ret\n",
    "\n",
    "    return wrap"
   ]
  },
  {
   "cell_type": "code",
   "execution_count": null,
   "metadata": {
    "collapsed": true,
    "scrolled": false
   },
   "outputs": [],
   "source": [
    "@timing\n",
    "def count_pandas_1m():\n",
    "    print('##################')\n",
    "    print('count_pandas_1m')\n",
    "    print('Number of items in Data Frame is {}'.format(len(ratings_1m[ratings_1m.axes[1].values[0]])))\n",
    "    print('##################')"
   ]
  },
  {
   "cell_type": "code",
   "execution_count": null,
   "metadata": {
    "collapsed": true,
    "scrolled": false
   },
   "outputs": [],
   "source": [
    "@timing\n",
    "def count_pandas_10m():\n",
    "    print('##################')\n",
    "    print('count_pandas_10m')\n",
    "    print('Number of items in Data Frame is {}'.format(len(ratings_10m[ratings_10m.axes[1].values[0]])))\n",
    "    print('##################')"
   ]
  },
  {
   "cell_type": "code",
   "execution_count": null,
   "metadata": {
    "collapsed": true,
    "scrolled": false
   },
   "outputs": [],
   "source": [
    "@timing\n",
    "def count_pandas_20m():\n",
    "    print('##################')\n",
    "    print('count_pandas_20m')\n",
    "    print('Number of items in Data Frame is {}'.format(len(ratings_20m[ratings_20m.axes[1].values[0]])))\n",
    "    print('##################')"
   ]
  },
  {
   "cell_type": "code",
   "execution_count": null,
   "metadata": {
    "collapsed": true,
    "scrolled": false
   },
   "outputs": [],
   "source": [
    "@timing\n",
    "def count_pygdf_1m():\n",
    "    print('##################')\n",
    "    print('count_pygdf_1m')\n",
    "    print('Number of items in Data Frame is {}'.format(len(df_ratings_1m[df_ratings_1m.columns[0]])))\n",
    "    print('##################')"
   ]
  },
  {
   "cell_type": "code",
   "execution_count": null,
   "metadata": {
    "collapsed": true,
    "scrolled": false
   },
   "outputs": [],
   "source": [
    "@timing\n",
    "def count_pygdf_10m():\n",
    "    print('##################')\n",
    "    print('count_pygdf_10m')\n",
    "    print('Number of items in Data Frame is {}'.format(len(df_ratings_10m[df_ratings_10m.columns[0]])))\n",
    "    print('##################')"
   ]
  },
  {
   "cell_type": "code",
   "execution_count": null,
   "metadata": {
    "collapsed": true,
    "scrolled": false
   },
   "outputs": [],
   "source": [
    "@timing\n",
    "def count_pygdf_20m():\n",
    "    print('##################')\n",
    "    print('count_pygdf_20m')\n",
    "    print('Number of items in Data Frame is {}'.format(len(df_ratings_20m[df_ratings_20m.columns[0]])))\n",
    "    print('##################')"
   ]
  },
  {
   "cell_type": "code",
   "execution_count": null,
   "metadata": {
    "scrolled": false
   },
   "outputs": [],
   "source": [
    "def iteration_1():\n",
    "    count_pandas_1m()\n",
    "    count_pandas_10m()\n",
    "    count_pandas_20m()\n",
    "    count_pygdf_1m()\n",
    "    count_pygdf_10m()\n",
    "    count_pygdf_20m()"
   ]
  },
  {
   "cell_type": "code",
   "execution_count": null,
   "metadata": {
    "collapsed": true,
    "scrolled": false
   },
   "outputs": [],
   "source": [
    "def iteration_2():\n",
    "    count_pandas_1m()\n",
    "    count_pandas_10m()\n",
    "    count_pandas_20m()\n",
    "    count_pygdf_1m()\n",
    "    count_pygdf_10m()\n",
    "    count_pygdf_20m()"
   ]
  },
  {
   "cell_type": "code",
   "execution_count": null,
   "metadata": {},
   "outputs": [],
   "source": [
    "iteration_1()"
   ]
  },
  {
   "cell_type": "code",
   "execution_count": null,
   "metadata": {
    "scrolled": false
   },
   "outputs": [],
   "source": [
    "iteration_2()"
   ]
  }
 ],
 "metadata": {
  "kernelspec": {
   "display_name": "Python 3 PyGDF",
   "language": "python",
   "name": "pygdf_dev"
  },
  "language_info": {
   "codemirror_mode": {
    "name": "ipython",
    "version": 3
   },
   "file_extension": ".py",
   "mimetype": "text/x-python",
   "name": "python",
   "nbconvert_exporter": "python",
   "pygments_lexer": "ipython3",
   "version": "3.5.3"
  }
 },
 "nbformat": 4,
 "nbformat_minor": 2
}
