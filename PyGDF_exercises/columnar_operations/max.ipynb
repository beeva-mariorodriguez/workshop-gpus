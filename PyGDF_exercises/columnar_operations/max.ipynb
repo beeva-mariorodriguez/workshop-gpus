{
 "cells": [
  {
   "cell_type": "markdown",
   "metadata": {},
   "source": [
    "# Max\n",
    "\n",
    "In this exercise will be compare *max* function to count number of ratings there are, and compare time to process dataset between Pandas and PyGDF"
   ]
  },
  {
   "cell_type": "code",
   "execution_count": 1,
   "metadata": {
    "scrolled": false
   },
   "outputs": [
    {
     "name": "stdout",
     "output_type": "stream",
     "text": [
      "============\n",
      "loading data\n",
      "============\n",
      "============\n",
      "data lodaded\n",
      "============\n"
     ]
    }
   ],
   "source": [
    "from pygdf.dataframe import DataFrame\n",
    "import time\n",
    "import pandas as pd\n",
    "import logging\n",
    "from IPython import display\n",
    "\n",
    "RATINGS = '/home/ubuntu/pygdf/input_files/ratings-10M.dat'\n",
    "\n",
    "# ===========\n",
    "# Load Files\n",
    "# ===========\n",
    "print('============')\n",
    "print('loading data')\n",
    "print('============')\n",
    "ratingHeader = ['user_id', 'movie_id', 'rating', 'timestamp']\n",
    "ratings = pd.read_table(RATINGS, engine='python', sep='::', header=None, names=ratingHeader)\n",
    "df_ratings = DataFrame.from_pandas(ratings)\n",
    "print('============')\n",
    "print('data lodaded')\n",
    "print('============')"
   ]
  },
  {
   "cell_type": "code",
   "execution_count": 3,
   "metadata": {
    "collapsed": true
   },
   "outputs": [],
   "source": [
    "def timing(f):\n",
    "    def wrap(*args):\n",
    "        time1 = time.time()\n",
    "        ret = f(*args)\n",
    "        time2 = time.time()\n",
    "        diff_time = (time2 - time1) * 1000.0\n",
    "        print('=======================================================')\n",
    "        print('{} tooks {:.2f} ms'.format(f.__name__, diff_time))\n",
    "        print('=======================================================')\n",
    "        return ret\n",
    "\n",
    "    return wrap"
   ]
  },
  {
   "cell_type": "code",
   "execution_count": 4,
   "metadata": {
    "scrolled": false
   },
   "outputs": [],
   "source": [
    "@timing\n",
    "def max_pandas():\n",
    "    print('##################')\n",
    "    print('max_pandas')\n",
    "    for k in ratings.columns:\n",
    "        print('Max of {} is {}'.format(k, ratings[k].values.max()))\n",
    "    print('##################')"
   ]
  },
  {
   "cell_type": "code",
   "execution_count": 5,
   "metadata": {
    "scrolled": false
   },
   "outputs": [
    {
     "name": "stdout",
     "output_type": "stream",
     "text": [
      "##################\n",
      "max_pandas\n",
      "Max of user_id is 71567\n",
      "Max of movie_id is 65133\n",
      "Max of rating is 5.0\n",
      "Max of timestamp is 1231131736\n",
      "##################\n",
      "=======================================================\n",
      "max_pandas tooks 38.37 ms\n",
      "=======================================================\n"
     ]
    }
   ],
   "source": [
    "max_pandas()"
   ]
  },
  {
   "cell_type": "code",
   "execution_count": 6,
   "metadata": {
    "collapsed": true,
    "scrolled": false
   },
   "outputs": [],
   "source": [
    "@timing\n",
    "def max_pygdf():\n",
    "    print('##################')\n",
    "    print('count_pygdf')\n",
    "    for k in df_ratings.columns:\n",
    "        print('Max of {} is {}'.format(k, df_ratings[k].max()))\n",
    "    print('##################')"
   ]
  },
  {
   "cell_type": "code",
   "execution_count": 9,
   "metadata": {},
   "outputs": [
    {
     "name": "stdout",
     "output_type": "stream",
     "text": [
      "##################\n",
      "count_pygdf\n",
      "Max of user_id is 71567\n",
      "Max of movie_id is 65133\n",
      "Max of rating is 5.0\n",
      "Max of timestamp is 1231131736\n",
      "##################\n",
      "=======================================================\n",
      "max_pygdf tooks 11.50 ms\n",
      "=======================================================\n"
     ]
    }
   ],
   "source": [
    "max_pygdf()"
   ]
  },
  {
   "cell_type": "code",
   "execution_count": null,
   "metadata": {
    "collapsed": true
   },
   "outputs": [],
   "source": []
  }
 ],
 "metadata": {
  "kernelspec": {
   "display_name": "Python 3 PyGDF",
   "language": "python",
   "name": "pygdf_dev"
  },
  "language_info": {
   "codemirror_mode": {
    "name": "ipython",
    "version": 3
   },
   "file_extension": ".py",
   "mimetype": "text/x-python",
   "name": "python",
   "nbconvert_exporter": "python",
   "pygments_lexer": "ipython3",
   "version": "3.5.3"
  }
 },
 "nbformat": 4,
 "nbformat_minor": 2
}
